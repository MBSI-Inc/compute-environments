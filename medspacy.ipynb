{
 "cells": [
  {
   "cell_type": "markdown",
   "id": "520cc7b5-c1a6-4701-bc72-e32b6b4344dc",
   "metadata": {},
   "source": [
    "# Using spaCy for Named Entity Recognition (NER)"
   ]
  },
  {
   "cell_type": "code",
   "execution_count": null,
   "id": "flexible-auckland",
   "metadata": {},
   "outputs": [],
   "source": [
    "import spacy\n",
    "import medspacy\n",
    "from spacy import displacy\n",
    "import pymysql\n",
    "import pandas as pd\n",
    "import getpass\n",
    "import random\n",
    "from ipywidgets import interact\n",
    "from IPython.display import HTML, display\n",
    "import warnings"
   ]
  },
  {
   "cell_type": "code",
   "execution_count": null,
   "id": "a14ae9ef-5d24-43b0-a4de-4d7f9afe2057",
   "metadata": {},
   "outputs": [],
   "source": [
    "warnings.filterwarnings(\"ignore\")"
   ]
  },
  {
   "cell_type": "markdown",
   "id": "0b86e202-83f7-4361-a1ae-ebbb25357d23",
   "metadata": {},
   "source": [
    "## Install a Default Language Model\n",
    "\n",
    "The following cell downloads a default English language model. It is defined using web content, which we will see does not work well for medial texts."
   ]
  },
  {
   "cell_type": "code",
   "execution_count": null,
   "id": "5d776ff7-0b8b-4d89-9c34-2c483b3e0683",
   "metadata": {},
   "outputs": [],
   "source": [
    "!python -m spacy download en_core_web_sm"
   ]
  },
  {
   "cell_type": "markdown",
   "id": "5a14ded8-4606-4064-b432-6ee6995a7748",
   "metadata": {},
   "source": [
    "## Load Web  (`wnlp`) and Medical Language Models (`mnlp`)\n"
   ]
  },
  {
   "cell_type": "code",
   "execution_count": null,
   "id": "7513b9df-e7ed-4755-bab1-42a57f6606be",
   "metadata": {},
   "outputs": [],
   "source": [
    "wnlp = spacy.load(\"en_core_web_sm\")\n",
    "mnlp = medspacy.load(\"en_info_3700_i2b2_2012\", enable=['sentencizer', 'tagger', 'parser',\n",
    "                                                      'ner', 'target_matcher', 'context',\n",
    "                                                     'sectionizer'])"
   ]
  },
  {
   "cell_type": "code",
   "execution_count": null,
   "id": "828c2a0c-bc11-4907-8dcf-1aa6df48c640",
   "metadata": {},
   "outputs": [],
   "source": [
    "conn = pymysql.connect(host=\"35.233.174.193\",port=3306,\n",
    "                           user=input(\"Enter username for MIMIC2 database\"),\n",
    "                           passwd=getpass.getpass(\"Enter password for MIMIC2 database\"),\n",
    "                           db='mimic2')\n"
   ]
  },
  {
   "cell_type": "markdown",
   "id": "2a5e661d-fe99-4d30-b364-49e65841e83c",
   "metadata": {},
   "source": [
    "### Get Text\n",
    "\n",
    "Textual data is stored in the `noteevents` table"
   ]
  },
  {
   "cell_type": "code",
   "execution_count": null,
   "id": "d66f4baf-b371-4ca3-a148-5473bbd9e945",
   "metadata": {},
   "outputs": [],
   "source": [
    "reports = pd.read_sql(\"\"\"SELECT text, category FROM noteevents\"\"\", conn)"
   ]
  },
  {
   "cell_type": "markdown",
   "id": "bbc83a5e-67ed-4232-b362-98f5fd71a5e8",
   "metadata": {},
   "source": [
    "### What Kind of Notes are Available?"
   ]
  },
  {
   "cell_type": "code",
   "execution_count": null,
   "id": "149ac663-4ebd-4ad9-804e-c8a408d4149d",
   "metadata": {},
   "outputs": [],
   "source": [
    "reports.category.unique()"
   ]
  },
  {
   "cell_type": "markdown",
   "id": "3c813a9d-d9ac-405c-8722-96de9801d0fb",
   "metadata": {},
   "source": [
    "### Split reports into dictiory keyed by category type"
   ]
  },
  {
   "cell_type": "code",
   "execution_count": null,
   "id": "689a12b2-f026-45e5-92f9-1e500af0076c",
   "metadata": {},
   "outputs": [],
   "source": [
    "cat_reports = {c:reports[reports.category==c]['text'].tolist() for c in reports.category.unique()}"
   ]
  },
  {
   "cell_type": "markdown",
   "id": "e81d7b17-cd95-4ecc-908f-8a75f6ec579c",
   "metadata": {},
   "source": [
    "## Compare Web/Medical Language Markup\n",
    "\n",
    "The following function takes a list of reports, randomnly selects one and identifies named entities using first the medical specific language model in medspaCy and then the default web-based English languge model of spaCy."
   ]
  },
  {
   "cell_type": "code",
   "execution_count": null,
   "id": "e6169437-44c7-4fda-b5be-8bd714719c43",
   "metadata": {},
   "outputs": [],
   "source": [
    "def view_ner_reports(txt):\n",
    "    text = random.choice(txt)\n",
    "    display(HTML(\"<h1> Original Text</h1>\"))\n",
    "    print(text)\n",
    "    display(HTML(\"<h1> MedspaCy Markup</h1>\"))\n",
    "\n",
    "    displacy.render(mnlp(text), style=\"ent\")\n",
    "    display(HTML(\"<h1> Web-based spaCy Markup</h1>\"))\n",
    "    displacy.render(wnlp(text), style=\"ent\")"
   ]
  },
  {
   "cell_type": "code",
   "execution_count": null,
   "id": "58c0be70-f894-4963-bfb5-0d39278b1f56",
   "metadata": {},
   "outputs": [],
   "source": [
    "view_ner_reports(cat_reports['Nursing/Other'])"
   ]
  },
  {
   "cell_type": "code",
   "execution_count": null,
   "id": "dcd0088b-b966-4567-9a9e-93ee51ae1fa7",
   "metadata": {},
   "outputs": [],
   "source": []
  },
  {
   "cell_type": "code",
   "execution_count": null,
   "id": "2a9a2aaa-d850-4c98-bdbb-f161076efdbd",
   "metadata": {},
   "outputs": [],
   "source": []
  }
 ],
 "metadata": {
  "kernelspec": {
   "display_name": "Python 3",
   "language": "python",
   "name": "python3"
  },
  "language_info": {
   "codemirror_mode": {
    "name": "ipython",
    "version": 3
   },
   "file_extension": ".py",
   "mimetype": "text/x-python",
   "name": "python",
   "nbconvert_exporter": "python",
   "pygments_lexer": "ipython3",
   "version": "3.8.8"
  }
 },
 "nbformat": 4,
 "nbformat_minor": 5
}
