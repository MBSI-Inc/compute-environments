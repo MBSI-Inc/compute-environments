{
 "cells": [
  {
   "cell_type": "code",
   "execution_count": null,
   "id": "flexible-auckland",
   "metadata": {},
   "outputs": [],
   "source": [
    "import spacy\n",
    "import medspacy\n",
    "from spacy import displacy\n",
    "import pymysql\n",
    "import pandas as pd\n",
    "import getpass\n",
    "import random\n",
    "from ipywidgets import interact"
   ]
  },
  {
   "cell_type": "code",
   "execution_count": null,
   "id": "5d776ff7-0b8b-4d89-9c34-2c483b3e0683",
   "metadata": {},
   "outputs": [],
   "source": [
    "!python -m spacy download en_core_web_sm"
   ]
  },
  {
   "cell_type": "code",
   "execution_count": null,
   "id": "7513b9df-e7ed-4755-bab1-42a57f6606be",
   "metadata": {},
   "outputs": [],
   "source": [
    "snlp = spacy.load(\"en_core_web_sm\")\n",
    "nlp = medspacy.load(\"en_info_3700_i2b2_2012\", enable=['sentencizer', 'tagger', 'parser',\n",
    "                                                      'ner', 'target_matcher', 'context',\n",
    "                                                     'sectionizer'])\n",
    "print(nlp.pipe_names)"
   ]
  },
  {
   "cell_type": "code",
   "execution_count": null,
   "id": "828c2a0c-bc11-4907-8dcf-1aa6df48c640",
   "metadata": {},
   "outputs": [],
   "source": [
    "conn = pymysql.connect(host=\"35.233.174.193\",port=3306,\n",
    "                           user=input(\"Enter username for MIMIC2 database\"),\n",
    "                           passwd=getpass.getpass(\"Enter password for MIMIC2 database\"),\n",
    "                           db='mimic2')\n"
   ]
  },
  {
   "cell_type": "code",
   "execution_count": null,
   "id": "d66f4baf-b371-4ca3-a148-5473bbd9e945",
   "metadata": {},
   "outputs": [],
   "source": [
    "reports = pd.read_sql(\"\"\"SELECT text, category FROM noteevents\"\"\", conn)"
   ]
  },
  {
   "cell_type": "code",
   "execution_count": null,
   "id": "149ac663-4ebd-4ad9-804e-c8a408d4149d",
   "metadata": {},
   "outputs": [],
   "source": [
    "reports.category.unique()"
   ]
  },
  {
   "cell_type": "code",
   "execution_count": null,
   "id": "689a12b2-f026-45e5-92f9-1e500af0076c",
   "metadata": {},
   "outputs": [],
   "source": [
    "cat_reports = {c:reports[reports.category==c]['text'].tolist() for c in reports.category.unique()}"
   ]
  },
  {
   "cell_type": "code",
   "execution_count": null,
   "id": "e6169437-44c7-4fda-b5be-8bd714719c43",
   "metadata": {},
   "outputs": [],
   "source": [
    "def view_ner_reports(txt):\n",
    "    text = random.choice(txt)\n",
    "    displacy.render(nlp(text), style=\"ent\")\n",
    "    print('XyX'*24)\n",
    "    displacy.render(snlp(text), style=\"ent\")"
   ]
  },
  {
   "cell_type": "code",
   "execution_count": null,
   "id": "7bcfa1b5-4980-43a8-b8ee-d1ee900c2988",
   "metadata": {},
   "outputs": [],
   "source": [
    "cat_reports.keys()"
   ]
  },
  {
   "cell_type": "code",
   "execution_count": null,
   "id": "58c0be70-f894-4963-bfb5-0d39278b1f56",
   "metadata": {},
   "outputs": [],
   "source": [
    "view_ner_reports(cat_reports['DISCHARGE_SUMMARY'])"
   ]
  },
  {
   "cell_type": "code",
   "execution_count": null,
   "id": "dcd0088b-b966-4567-9a9e-93ee51ae1fa7",
   "metadata": {},
   "outputs": [],
   "source": [
    "%debug"
   ]
  },
  {
   "cell_type": "code",
   "execution_count": null,
   "id": "2a9a2aaa-d850-4c98-bdbb-f161076efdbd",
   "metadata": {},
   "outputs": [],
   "source": []
  }
 ],
 "metadata": {
  "kernelspec": {
   "display_name": "Python 3",
   "language": "python",
   "name": "python3"
  },
  "language_info": {
   "codemirror_mode": {
    "name": "ipython",
    "version": 3
   },
   "file_extension": ".py",
   "mimetype": "text/x-python",
   "name": "python",
   "nbconvert_exporter": "python",
   "pygments_lexer": "ipython3",
   "version": "3.8.8"
  }
 },
 "nbformat": 4,
 "nbformat_minor": 5
}
