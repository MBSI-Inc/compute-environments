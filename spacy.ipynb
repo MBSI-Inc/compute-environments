{
 "cells": [
  {
   "cell_type": "code",
   "execution_count": null,
   "id": "7bcc6e98",
   "metadata": {},
   "outputs": [],
   "source": [
    "import spacy\n",
    "import scispacy\n"
   ]
  },
  {
   "cell_type": "markdown",
   "id": "ae0f9c0e-929c-4908-9503-576928423129",
   "metadata": {},
   "source": [
    "### Example text\n",
    "\n",
    "This is taken from \"Breast Cancer Risk Genes — Association Analysis in More than 113,000 Women\"\n",
    "\n",
    "N Engl J Med 2021;384:428-39.\n",
    "DOI: 10.1056/NEJMoa1913948"
   ]
  },
  {
   "cell_type": "code",
   "execution_count": null,
   "id": "9d996699-dd66-46e4-8bdf-300cd598b1c7",
   "metadata": {},
   "outputs": [],
   "source": [
    "nlp = spacy.load(\"en_core_sci_sm\")"
   ]
  },
  {
   "cell_type": "code",
   "execution_count": null,
   "id": "3a9ccfe3",
   "metadata": {},
   "outputs": [],
   "source": [
    "txt = \"\"\"Protein-truncating variants in 5 genes (ATM, BRCA1, BRCA2, CHEK2, and PALB2) were associated with a risk of breast cancer overall with a P value of less than 0.0001. Protein-truncating variants in 4 other genes (BARD1, RAD51C, RAD51D, and TP53) were associated with a risk of breast cancer overall with a P value of less than 0.05 and a Bayesian false-discovery probability of less than 0.05. For protein-truncating variants in 19 of the remaining 25 genes, the upper limit of the 95% confidence interval of the odds ratio for breast cancer overall was less than 2.0. For protein-truncating variants in ATM and CHEK2, odds ratios were higher for estrogen receptor (ER)–positive disease than for ER-negative disease; for protein-truncating variants in BARD1, BRCA1, BRCA2, PALB2, RAD51C, and RAD51D, odds ratios were higher for ER-negative disease than for ER-positive disease. Rare missense variants (in aggregate) in ATM, CHEK2, and TP53 were associated with a risk of breast cancer overall with a P value of less than 0.001. For BRCA1, BRCA2, and TP53, missense variants (in aggregate) that would be clas- sified as pathogenic according to standard criteria were associated with a risk of breast cancer overall, with the risk being similar to that of protein-truncating variants.\"\"\""
   ]
  },
  {
   "cell_type": "code",
   "execution_count": null,
   "id": "582c21fa-7896-464a-9d3b-530389ee69cc",
   "metadata": {},
   "outputs": [],
   "source": [
    "print(txt)"
   ]
  },
  {
   "cell_type": "code",
   "execution_count": null,
   "id": "d18f503e-941b-4e75-9630-f738b86dc94b",
   "metadata": {},
   "outputs": [],
   "source": [
    "doc = nlp(txt)\n"
   ]
  },
  {
   "cell_type": "code",
   "execution_count": null,
   "id": "1e2f3c67-388b-4ea4-9976-c59ed2b2942d",
   "metadata": {},
   "outputs": [],
   "source": [
    "print(len(list(doc.sents)))\n",
    "for s in doc.sents:\n",
    "    print(s)\n",
    "    print(s.ents)\n",
    "    print('-'*24)"
   ]
  },
  {
   "cell_type": "code",
   "execution_count": null,
   "id": "b9cd0706-d3ab-4243-915d-2e338c7dd1c1",
   "metadata": {},
   "outputs": [],
   "source": [
    "from spacy import displacy\n",
    "displacy.render(next(doc.sents), style='dep', jupyter=True)\n"
   ]
  },
  {
   "cell_type": "code",
   "execution_count": null,
   "id": "15a18bce-8587-4bbb-a01d-eb56e83a8463",
   "metadata": {},
   "outputs": [],
   "source": []
  }
 ],
 "metadata": {
  "kernelspec": {
   "display_name": "Python 3",
   "language": "python",
   "name": "python3"
  },
  "language_info": {
   "codemirror_mode": {
    "name": "ipython",
    "version": 3
   },
   "file_extension": ".py",
   "mimetype": "text/x-python",
   "name": "python",
   "nbconvert_exporter": "python",
   "pygments_lexer": "ipython3",
   "version": "3.9.2"
  }
 },
 "nbformat": 4,
 "nbformat_minor": 5
}
